{
 "cells": [
  {
   "cell_type": "code",
   "execution_count": 2,
   "metadata": {},
   "outputs": [
    {
     "name": "stdout",
     "output_type": "stream",
     "text": [
      "Collecting tkcalendar\n",
      "  Downloading tkcalendar-1.6.1-py3-none-any.whl.metadata (22 kB)\n",
      "Collecting babel (from tkcalendar)\n",
      "  Downloading Babel-2.15.0-py3-none-any.whl.metadata (1.5 kB)\n",
      "Downloading tkcalendar-1.6.1-py3-none-any.whl (40 kB)\n",
      "   ---------------------------------------- 0.0/40.9 kB ? eta -:--:--\n",
      "   ---------- ----------------------------- 10.2/40.9 kB ? eta -:--:--\n",
      "   ------------------------------ --------- 30.7/40.9 kB 330.3 kB/s eta 0:00:01\n",
      "   ---------------------------------------- 40.9/40.9 kB 393.2 kB/s eta 0:00:00\n",
      "Downloading Babel-2.15.0-py3-none-any.whl (9.6 MB)\n",
      "   ---------------------------------------- 0.0/9.6 MB ? eta -:--:--\n",
      "   ---------------------------------------- 0.0/9.6 MB 2.0 MB/s eta 0:00:05\n",
      "   ---------------------------------------- 0.1/9.6 MB 825.8 kB/s eta 0:00:12\n",
      "   ---------------------------------------- 0.1/9.6 MB 825.8 kB/s eta 0:00:12\n",
      "    --------------------------------------- 0.2/9.6 MB 1.2 MB/s eta 0:00:08\n",
      "    --------------------------------------- 0.2/9.6 MB 958.4 kB/s eta 0:00:10\n",
      "   - -------------------------------------- 0.3/9.6 MB 1.1 MB/s eta 0:00:09\n",
      "   - -------------------------------------- 0.4/9.6 MB 1.2 MB/s eta 0:00:08\n",
      "   - -------------------------------------- 0.4/9.6 MB 1.2 MB/s eta 0:00:08\n",
      "   -- ------------------------------------- 0.5/9.6 MB 1.3 MB/s eta 0:00:08\n",
      "   -- ------------------------------------- 0.6/9.6 MB 1.3 MB/s eta 0:00:07\n",
      "   -- ------------------------------------- 0.7/9.6 MB 1.4 MB/s eta 0:00:07\n",
      "   --- ------------------------------------ 0.7/9.6 MB 1.4 MB/s eta 0:00:07\n",
      "   --- ------------------------------------ 0.8/9.6 MB 1.4 MB/s eta 0:00:07\n",
      "   --- ------------------------------------ 0.9/9.6 MB 1.4 MB/s eta 0:00:07\n",
      "   ---- ----------------------------------- 1.0/9.6 MB 1.5 MB/s eta 0:00:06\n",
      "   ---- ----------------------------------- 1.1/9.6 MB 1.5 MB/s eta 0:00:06\n",
      "   ---- ----------------------------------- 1.1/9.6 MB 1.5 MB/s eta 0:00:06\n",
      "   ----- ---------------------------------- 1.2/9.6 MB 1.5 MB/s eta 0:00:06\n",
      "   ----- ---------------------------------- 1.3/9.6 MB 1.6 MB/s eta 0:00:06\n",
      "   ----- ---------------------------------- 1.4/9.6 MB 1.6 MB/s eta 0:00:06\n",
      "   ------ --------------------------------- 1.5/9.6 MB 1.6 MB/s eta 0:00:06\n",
      "   ------ --------------------------------- 1.6/9.6 MB 1.6 MB/s eta 0:00:06\n",
      "   ------ --------------------------------- 1.6/9.6 MB 1.6 MB/s eta 0:00:05\n",
      "   ------- -------------------------------- 1.7/9.6 MB 1.6 MB/s eta 0:00:05\n",
      "   ------- -------------------------------- 1.8/9.6 MB 1.6 MB/s eta 0:00:05\n",
      "   ------- -------------------------------- 1.9/9.6 MB 1.6 MB/s eta 0:00:05\n",
      "   -------- ------------------------------- 2.0/9.6 MB 1.7 MB/s eta 0:00:05\n",
      "   -------- ------------------------------- 2.1/9.6 MB 1.7 MB/s eta 0:00:05\n",
      "   --------- ------------------------------ 2.2/9.6 MB 1.7 MB/s eta 0:00:05\n",
      "   --------- ------------------------------ 2.3/9.6 MB 1.7 MB/s eta 0:00:05\n",
      "   ---------- ----------------------------- 2.4/9.6 MB 1.7 MB/s eta 0:00:05\n",
      "   ---------- ----------------------------- 2.5/9.6 MB 1.7 MB/s eta 0:00:05\n",
      "   ---------- ----------------------------- 2.6/9.6 MB 1.7 MB/s eta 0:00:05\n",
      "   ----------- ---------------------------- 2.7/9.6 MB 1.7 MB/s eta 0:00:05\n",
      "   ----------- ---------------------------- 2.8/9.6 MB 1.8 MB/s eta 0:00:04\n",
      "   ----------- ---------------------------- 2.9/9.6 MB 1.8 MB/s eta 0:00:04\n",
      "   ------------ --------------------------- 3.0/9.6 MB 1.8 MB/s eta 0:00:04\n",
      "   ------------ --------------------------- 3.1/9.6 MB 1.8 MB/s eta 0:00:04\n",
      "   ------------- -------------------------- 3.1/9.6 MB 1.8 MB/s eta 0:00:04\n",
      "   ------------- -------------------------- 3.2/9.6 MB 1.8 MB/s eta 0:00:04\n",
      "   ------------- -------------------------- 3.4/9.6 MB 1.8 MB/s eta 0:00:04\n",
      "   -------------- ------------------------- 3.5/9.6 MB 1.8 MB/s eta 0:00:04\n",
      "   -------------- ------------------------- 3.6/9.6 MB 1.8 MB/s eta 0:00:04\n",
      "   --------------- ------------------------ 3.7/9.6 MB 1.8 MB/s eta 0:00:04\n",
      "   --------------- ------------------------ 3.8/9.6 MB 1.8 MB/s eta 0:00:04\n",
      "   ---------------- ----------------------- 3.9/9.6 MB 1.8 MB/s eta 0:00:04\n",
      "   ---------------- ----------------------- 4.0/9.6 MB 1.9 MB/s eta 0:00:04\n",
      "   ----------------- ---------------------- 4.1/9.6 MB 1.9 MB/s eta 0:00:03\n",
      "   ----------------- ---------------------- 4.2/9.6 MB 1.9 MB/s eta 0:00:03\n",
      "   ----------------- ---------------------- 4.3/9.6 MB 1.9 MB/s eta 0:00:03\n",
      "   ------------------ --------------------- 4.4/9.6 MB 1.9 MB/s eta 0:00:03\n",
      "   ------------------ --------------------- 4.5/9.6 MB 1.9 MB/s eta 0:00:03\n",
      "   ------------------- -------------------- 4.6/9.6 MB 1.9 MB/s eta 0:00:03\n",
      "   ------------------- -------------------- 4.7/9.6 MB 1.9 MB/s eta 0:00:03\n",
      "   ------------------- -------------------- 4.8/9.6 MB 1.9 MB/s eta 0:00:03\n",
      "   -------------------- ------------------- 4.9/9.6 MB 1.9 MB/s eta 0:00:03\n",
      "   -------------------- ------------------- 5.0/9.6 MB 1.9 MB/s eta 0:00:03\n",
      "   --------------------- ------------------ 5.1/9.6 MB 1.9 MB/s eta 0:00:03\n",
      "   --------------------- ------------------ 5.2/9.6 MB 1.9 MB/s eta 0:00:03\n",
      "   ---------------------- ----------------- 5.3/9.6 MB 1.9 MB/s eta 0:00:03\n",
      "   ---------------------- ----------------- 5.4/9.6 MB 1.9 MB/s eta 0:00:03\n",
      "   ----------------------- ---------------- 5.6/9.6 MB 1.9 MB/s eta 0:00:03\n",
      "   ----------------------- ---------------- 5.7/9.6 MB 1.9 MB/s eta 0:00:03\n",
      "   ------------------------ --------------- 5.9/9.6 MB 1.9 MB/s eta 0:00:02\n",
      "   ------------------------ --------------- 5.9/9.6 MB 1.9 MB/s eta 0:00:02\n",
      "   ------------------------- -------------- 6.1/9.6 MB 1.9 MB/s eta 0:00:02\n",
      "   ------------------------- -------------- 6.1/9.6 MB 1.9 MB/s eta 0:00:02\n",
      "   ------------------------- -------------- 6.2/9.6 MB 1.9 MB/s eta 0:00:02\n",
      "   -------------------------- ------------- 6.3/9.6 MB 1.9 MB/s eta 0:00:02\n",
      "   -------------------------- ------------- 6.4/9.6 MB 1.9 MB/s eta 0:00:02\n",
      "   --------------------------- ------------ 6.5/9.6 MB 1.9 MB/s eta 0:00:02\n",
      "   --------------------------- ------------ 6.6/9.6 MB 1.9 MB/s eta 0:00:02\n",
      "   --------------------------- ------------ 6.7/9.6 MB 1.9 MB/s eta 0:00:02\n",
      "   ---------------------------- ----------- 6.8/9.6 MB 1.8 MB/s eta 0:00:02\n",
      "   ---------------------------- ----------- 6.9/9.6 MB 1.8 MB/s eta 0:00:02\n",
      "   ----------------------------- ---------- 7.1/9.6 MB 1.8 MB/s eta 0:00:02\n",
      "   ----------------------------- ---------- 7.2/9.6 MB 1.8 MB/s eta 0:00:02\n",
      "   ----------------------------- ---------- 7.2/9.6 MB 1.8 MB/s eta 0:00:02\n",
      "   ------------------------------ --------- 7.3/9.6 MB 1.8 MB/s eta 0:00:02\n",
      "   ------------------------------ --------- 7.4/9.6 MB 1.8 MB/s eta 0:00:02\n",
      "   ------------------------------ --------- 7.4/9.6 MB 1.8 MB/s eta 0:00:02\n",
      "   ------------------------------ --------- 7.4/9.6 MB 1.8 MB/s eta 0:00:02\n",
      "   ------------------------------- -------- 7.5/9.6 MB 1.8 MB/s eta 0:00:02\n",
      "   ------------------------------- -------- 7.6/9.6 MB 1.8 MB/s eta 0:00:02\n",
      "   ------------------------------- -------- 7.6/9.6 MB 1.8 MB/s eta 0:00:02\n",
      "   ------------------------------- -------- 7.7/9.6 MB 1.8 MB/s eta 0:00:02\n",
      "   -------------------------------- ------- 7.8/9.6 MB 1.8 MB/s eta 0:00:02\n",
      "   -------------------------------- ------- 7.8/9.6 MB 1.8 MB/s eta 0:00:02\n",
      "   -------------------------------- ------- 7.9/9.6 MB 1.8 MB/s eta 0:00:01\n",
      "   -------------------------------- ------- 7.9/9.6 MB 1.8 MB/s eta 0:00:01\n",
      "   --------------------------------- ------ 8.0/9.6 MB 1.8 MB/s eta 0:00:01\n",
      "   --------------------------------- ------ 8.0/9.6 MB 1.8 MB/s eta 0:00:01\n",
      "   --------------------------------- ------ 8.1/9.6 MB 1.8 MB/s eta 0:00:01\n",
      "   --------------------------------- ------ 8.2/9.6 MB 1.7 MB/s eta 0:00:01\n",
      "   ---------------------------------- ----- 8.3/9.6 MB 1.7 MB/s eta 0:00:01\n",
      "   ---------------------------------- ----- 8.3/9.6 MB 1.7 MB/s eta 0:00:01\n",
      "   ---------------------------------- ----- 8.4/9.6 MB 1.7 MB/s eta 0:00:01\n",
      "   ---------------------------------- ----- 8.4/9.6 MB 1.7 MB/s eta 0:00:01\n",
      "   ----------------------------------- ---- 8.5/9.6 MB 1.7 MB/s eta 0:00:01\n",
      "   ----------------------------------- ---- 8.6/9.6 MB 1.7 MB/s eta 0:00:01\n",
      "   ----------------------------------- ---- 8.6/9.6 MB 1.7 MB/s eta 0:00:01\n",
      "   ------------------------------------ --- 8.7/9.6 MB 1.7 MB/s eta 0:00:01\n",
      "   ------------------------------------ --- 8.8/9.6 MB 1.7 MB/s eta 0:00:01\n",
      "   ------------------------------------ --- 8.8/9.6 MB 1.7 MB/s eta 0:00:01\n",
      "   ------------------------------------ --- 8.9/9.6 MB 1.7 MB/s eta 0:00:01\n",
      "   ------------------------------------- -- 8.9/9.6 MB 1.7 MB/s eta 0:00:01\n",
      "   ------------------------------------- -- 9.0/9.6 MB 1.7 MB/s eta 0:00:01\n",
      "   ------------------------------------- -- 9.1/9.6 MB 1.7 MB/s eta 0:00:01\n",
      "   ------------------------------------- -- 9.1/9.6 MB 1.7 MB/s eta 0:00:01\n",
      "   -------------------------------------- - 9.2/9.6 MB 1.7 MB/s eta 0:00:01\n",
      "   -------------------------------------- - 9.2/9.6 MB 1.7 MB/s eta 0:00:01\n",
      "   -------------------------------------- - 9.3/9.6 MB 1.7 MB/s eta 0:00:01\n",
      "   -------------------------------------- - 9.4/9.6 MB 1.7 MB/s eta 0:00:01\n",
      "   ---------------------------------------  9.5/9.6 MB 1.7 MB/s eta 0:00:01\n",
      "   ---------------------------------------  9.5/9.6 MB 1.7 MB/s eta 0:00:01\n",
      "   ---------------------------------------  9.6/9.6 MB 1.7 MB/s eta 0:00:01\n",
      "   ---------------------------------------  9.6/9.6 MB 1.7 MB/s eta 0:00:01\n",
      "   ---------------------------------------  9.6/9.6 MB 1.7 MB/s eta 0:00:01\n",
      "   ---------------------------------------- 9.6/9.6 MB 1.7 MB/s eta 0:00:00\n",
      "Installing collected packages: babel, tkcalendar\n",
      "Successfully installed babel-2.15.0 tkcalendar-1.6.1\n",
      "Note: you may need to restart the kernel to use updated packages.\n"
     ]
    },
    {
     "name": "stderr",
     "output_type": "stream",
     "text": [
      "  WARNING: The script pybabel.exe is installed in 'c:\\Users\\halil\\AppData\\Local\\Programs\\Python\\Python312\\Scripts' which is not on PATH.\n",
      "  Consider adding this directory to PATH or, if you prefer to suppress this warning, use --no-warn-script-location.\n",
      "\n",
      "[notice] A new release of pip is available: 24.0 -> 24.1.2\n",
      "[notice] To update, run: python.exe -m pip install --upgrade pip\n"
     ]
    }
   ],
   "source": [
    "pip install tkcalendar"
   ]
  },
  {
   "cell_type": "code",
   "execution_count": 3,
   "metadata": {},
   "outputs": [],
   "source": [
    "import random\n",
    "import numpy as np\n",
    "import matplotlib.pyplot as plt\n",
    "\n"
   ]
  },
  {
   "cell_type": "code",
   "execution_count": 1,
   "metadata": {},
   "outputs": [
    {
     "ename": "NameError",
     "evalue": "name 'np' is not defined",
     "output_type": "error",
     "traceback": [
      "\u001b[1;31m---------------------------------------------------------------------------\u001b[0m",
      "\u001b[1;31mNameError\u001b[0m                                 Traceback (most recent call last)",
      "Cell \u001b[1;32mIn[1], line 1\u001b[0m\n\u001b[1;32m----> 1\u001b[0m theta\u001b[38;5;241m=\u001b[39m\u001b[43mnp\u001b[49m\u001b[38;5;241m.\u001b[39mlinspace(\u001b[38;5;241m0\u001b[39m,\u001b[38;5;241m2\u001b[39m\u001b[38;5;241m*\u001b[39mnp\u001b[38;5;241m.\u001b[39mpi,\u001b[38;5;241m360\u001b[39m)\n\u001b[0;32m      2\u001b[0m x_c\u001b[38;5;241m=\u001b[39m\u001b[38;5;241m2\u001b[39m\u001b[38;5;241m*\u001b[39mnp\u001b[38;5;241m.\u001b[39mcos(theta)\n\u001b[0;32m      3\u001b[0m y_c\u001b[38;5;241m=\u001b[39m\u001b[38;5;241m2\u001b[39m\u001b[38;5;241m*\u001b[39mnp\u001b[38;5;241m.\u001b[39msin(theta)\n",
      "\u001b[1;31mNameError\u001b[0m: name 'np' is not defined"
     ]
    }
   ],
   "source": [
    "theta=np.linspace(0,2*np.pi,360)\n",
    "x_c=2*np.cos(theta)\n",
    "y_c=2*np.sin(theta)\n",
    "x_e=2*np.cos(theta)\n",
    "y_e=4*np.sin(theta)\n",
    "plt.plot(x_c,y_c,c=\"r\")\n",
    "plt.plot(x_e,y_e,c=\"y\")\n",
    "n=random.choices(theta)\n",
    "r=x_c*np.cos(theta)-y_c*np.sin(theta)-np.sqrt(4-((x_c*np.cos(theta))**2+(y_c*np.sin(theta))**2))\n",
    "print(n[0])\n",
    "x0,y0=r*np.cos(theta),r*np.sin(theta)\n",
    "plt.plot(x0,y0,c=\"g\");"
   ]
  },
  {
   "cell_type": "code",
   "execution_count": 16,
   "metadata": {},
   "outputs": [],
   "source": [
    "#pip install turtle"
   ]
  },
  {
   "cell_type": "code",
   "execution_count": 12,
   "metadata": {},
   "outputs": [],
   "source": [
    "import turtle as t"
   ]
  },
  {
   "cell_type": "code",
   "execution_count": 14,
   "metadata": {},
   "outputs": [],
   "source": [
    "t.setup(width=500,height=500)\n",
    "t.title(\"Çember\")\n",
    "t.penup()\n",
    "t.goto(0,0)\n",
    "t.pendown()\n",
    "t.circle(100)\n",
    "\n",
    "t.penup()\n",
    "t.goto(50,0)\n",
    "t.pendown()\n",
    "t.circle(50)\n",
    "t.done()\n"
   ]
  },
  {
   "cell_type": "code",
   "execution_count": 17,
   "metadata": {},
   "outputs": [
    {
     "ename": "AttributeError",
     "evalue": "module 'turtle' has no attribute 'cos'",
     "output_type": "error",
     "traceback": [
      "\u001b[1;31m---------------------------------------------------------------------------\u001b[0m",
      "\u001b[1;31mAttributeError\u001b[0m                            Traceback (most recent call last)",
      "Cell \u001b[1;32mIn[17], line 17\u001b[0m\n\u001b[0;32m     14\u001b[0m \u001b[38;5;28;01mfor\u001b[39;00m i \u001b[38;5;129;01min\u001b[39;00m \u001b[38;5;28mrange\u001b[39m(\u001b[38;5;241m100\u001b[39m):\n\u001b[0;32m     15\u001b[0m     \u001b[38;5;66;03m# İkinci çember\u001b[39;00m\n\u001b[0;32m     16\u001b[0m     t\u001b[38;5;241m.\u001b[39mpenup()\n\u001b[1;32m---> 17\u001b[0m     t\u001b[38;5;241m.\u001b[39mgoto(\u001b[38;5;241m50\u001b[39m \u001b[38;5;241m*\u001b[39m \u001b[43mt\u001b[49m\u001b[38;5;241;43m.\u001b[39;49m\u001b[43mcos\u001b[49m(i \u001b[38;5;241m*\u001b[39m \u001b[38;5;241m0.05\u001b[39m), \u001b[38;5;241m50\u001b[39m \u001b[38;5;241m*\u001b[39m t\u001b[38;5;241m.\u001b[39msin(i \u001b[38;5;241m*\u001b[39m \u001b[38;5;241m0.05\u001b[39m))\n\u001b[0;32m     18\u001b[0m     t\u001b[38;5;241m.\u001b[39mpendown()\n\u001b[0;32m     19\u001b[0m     t\u001b[38;5;241m.\u001b[39mcircle(\u001b[38;5;241m25\u001b[39m)\n",
      "\u001b[1;31mAttributeError\u001b[0m: module 'turtle' has no attribute 'cos'"
     ]
    }
   ],
   "source": [
    "import turtle as t\n",
    "import time\n",
    "\n",
    "t.setup(width=500, height=500)\n",
    "t.title(\"Çember Üzerinde Çember Animasyonu\")\n",
    "\n",
    "# İlk çember\n",
    "t.penup()\n",
    "t.goto(0, 0)\n",
    "t.pendown()\n",
    "t.circle(100)\n",
    "\n",
    "# Animasyon döngüsü\n",
    "for i in range(100):\n",
    "    # İkinci çember\n",
    "    t.penup()\n",
    "    t.goto(50 * t.cos(i * 0.05), 50 * t.sin(i * 0.05))\n",
    "    t.pendown()\n",
    "    t.circle(25)\n",
    "    \n",
    "    # Gecikme\n",
    "    time.sleep(0.01)\n",
    "    t.done()\n",
    "\n",
    "t.done()"
   ]
  },
  {
   "cell_type": "code",
   "execution_count": 16,
   "metadata": {},
   "outputs": [
    {
     "data": {
      "image/png": "[encoded data removed]",
      "text/plain": [
       "<Figure size 640x480 with 1 Axes>"
      ]
     },
     "metadata": {},
     "output_type": "display_data"
    }
   ],
   "source": [
    "import random\n",
    "import numpy as np\n",
    "import matplotlib.pyplot as plt\n",
    "r=2\n",
    "x=np.linspace(-r/2.5,r/2.5,100)\n",
    "y=np.sqrt(r**2-x**2)\n",
    "y0=x**2*np.sqrt(12)\n",
    "plt.plot(x,y,c=\"b\")\n",
    "plt.plot(x,y0,c=\"r\");"
   ]
  },
  {
   "cell_type": "code",
   "execution_count": null,
   "metadata": {},
   "outputs": [],
   "source": []
  }
 ],
 "metadata": {
  "kernelspec": {
   "display_name": "Python 3",
   "language": "python",
   "name": "python3"
  },
  "language_info": {
   "codemirror_mode": {
    "name": "ipython",
    "version": 3
   },
   "file_extension": ".py",
   "mimetype": "text/x-python",
   "name": "python",
   "nbconvert_exporter": "python",
   "pygments_lexer": "ipython3",
   "version": "3.12.2"
  }
 },
 "nbformat": 4,
 "nbformat_minor": 2
}
