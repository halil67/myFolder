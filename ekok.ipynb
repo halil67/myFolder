{
 "cells": [
  {
   "cell_type": "code",
   "execution_count": 20,
   "metadata": {},
   "outputs": [
    {
     "name": "stdout",
     "output_type": "stream",
     "text": [
      "OBEB(24,36)=12\n"
     ]
    }
   ],
   "source": [
    "def bolenler(x): \n",
    "    ls = []\n",
    "    for i in range(1, int(x/2) + 1):\n",
    "        if x % i == 0:\n",
    "            ls.append(i)\n",
    "    ls.append(x)  # Sayının kendisini de ekleyin\n",
    "    return ls\n",
    "\n",
    "a = 24\n",
    "b = 36\n",
    "common_divisors = set(bolenler(a)) & set(bolenler(b))\n",
    "print(f\"OBEB({a},{b})={max(common_divisors)}\")\n"
   ]
  },
  {
   "cell_type": "code",
   "execution_count": 40,
   "metadata": {},
   "outputs": [
    {
     "name": "stdout",
     "output_type": "stream",
     "text": [
      "Sayilar: [70, 24, 16, 59, 83, 17, 35, 4, 83]\n",
      "Bolenler kümeleri: [{1, 2, 35, 5, 70, 7, 10, 14}, {1, 2, 3, 4, 6, 8, 12, 24}, {1, 2, 4, 8, 16}, {1, 59}, {1, 83}, {1, 17}, {1, 35, 5, 7}, {1, 2, 4}, {1, 83}]\n",
      "Kümelerin kesişimi: {1}\n",
      "En Büyük Bölen: 1\n",
      "Sayılar Aralarında Asal\n"
     ]
    }
   ],
   "source": [
    "import random\n",
    "\n",
    "def bolenler(n):\n",
    "    \"\"\"Verilen sayının bölenlerini döndürür.\"\"\"\n",
    "    return [i for i in range(1, n+1) if n % i == 0]\n",
    "\n",
    "# Rastgele 2 veya 3 sayıdan oluşan bir liste oluştur\n",
    "l = [random.randint(1, 100) for _ in range(random.randint(2, 15))]\n",
    "\n",
    "# Her bir sayının bölenlerini bul ve set olarak c listesine ekle\n",
    "c = [set(bolenler(i)) for i in l]\n",
    "# Kümelerin kesişimini bul\n",
    "if c:\n",
    "    intersection = set.intersection(*c)\n",
    "else:\n",
    "    intersection = set()\n",
    "\n",
    "print(f\"Sayilar: {l}\")\n",
    "print(f\"Bolenler kümeleri: {c}\")\n",
    "print(f\"Kümelerin kesişimi: {intersection}\")\n",
    "print(f\"En Büyük Bölen: {max(intersection)}\")\n",
    "if max(intersection)==1:\n",
    "    print(\"Sayılar Aralarında Asal\")\n",
    "    \n"
   ]
  },
  {
   "cell_type": "code",
   "execution_count": 76,
   "metadata": {},
   "outputs": [],
   "source": [
    "def bolenler(n):\n",
    "    \n",
    "    return [i for i in range(1, n+1) if n % i == 0]\n",
    "def obeb(ls):\n",
    "    c = [set(bolenler(i)) for i in ls]\n",
    "    # Kümelerin kesişimini bul\n",
    "    if c:\n",
    "        intersection = set.intersection(*c)\n",
    "    else:\n",
    "        intersection = set()\n",
    "    print(f\"Sayilar: {l}\")\n",
    "    print(f\"Bolenler kümeleri: {c}\")\n",
    "    print(f\"Kümelerin kesişimi: {intersection}\")\n",
    "    print(f\"En Büyük Bölen: {max(intersection)}\")\n",
    "    if max(intersection)==1:\n",
    "        print(\"Sayılar Aralarında Asal\")\n",
    "\n"
   ]
  },
  {
   "cell_type": "code",
   "execution_count": 77,
   "metadata": {},
   "outputs": [],
   "source": [
    "def prime_factors(n):\n",
    "    i = 2\n",
    "    factors = []\n",
    "    while i * i <= n:\n",
    "        if n % i:\n",
    "            i += 1\n",
    "        else:\n",
    "            n //= i\n",
    "            factors.append(i)\n",
    "    if n > 1:\n",
    "        factors.append(n)\n",
    "    return factors\n",
    "\n",
    "def ekok(ls):\n",
    "    c = [prime_factors(i) for i in l]\n",
    "    print(\"Numbers:\", ls)\n",
    "    print(\"Prime Factors:\", c)\n",
    "\n",
    "    # En küçük ortak katı (EKOK) hesaplama\n",
    "    all_factors = Counter()\n",
    "    for factors in c:\n",
    "        factor_counts = Counter(factors)\n",
    "        for factor, count in factor_counts.items():\n",
    "            if factor in all_factors:\n",
    "                all_factors[factor] = max(all_factors[factor], count)\n",
    "            else:\n",
    "                all_factors[factor] = count\n",
    "\n",
    "    ekok = 1\n",
    "    for factor, count in all_factors.items():\n",
    "        ekok *= factor ** count\n",
    "\n",
    "    print(\"EKOK:\", ekok)"
   ]
  },
  {
   "cell_type": "code",
   "execution_count": 90,
   "metadata": {},
   "outputs": [
    {
     "name": "stdout",
     "output_type": "stream",
     "text": [
      "Numbers: [63, 70]\n",
      "Prime Factors: [[3, 3, 7], [2, 5, 7]]\n",
      "EKOK: 630\n",
      "Sayilar: [63, 70]\n",
      "Bolenler kümeleri: [{1, 3, 7, 9, 21, 63}, {1, 2, 35, 5, 70, 7, 10, 14}]\n",
      "Kümelerin kesişimi: {1, 7}\n",
      "En Büyük Bölen: 7\n"
     ]
    }
   ],
   "source": [
    "# Rastgele benzersiz bir liste oluştur\n",
    "list_length = random.randint(2, 50)\n",
    "l =  sorted(random.sample(range(1, 101), list_length))\n",
    "\n",
    "ekok(l)\n",
    "obeb(l)"
   ]
  },
  {
   "cell_type": "code",
   "execution_count": 75,
   "metadata": {},
   "outputs": [
    {
     "name": "stdout",
     "output_type": "stream",
     "text": [
      "Numbers: [7, 27, 39, 52, 90, 50, 8, 70, 32, 54, 86, 89, 84, 26, 30, 100, 58, 37, 11, 51, 82, 34, 5]\n",
      "Prime Factors: [[7], [3, 3, 3], [3, 13], [2, 2, 13], [2, 3, 3, 5], [2, 5, 5], [2, 2, 2], [2, 5, 7], [2, 2, 2, 2, 2], [2, 3, 3, 3], [2, 43], [89], [2, 2, 3, 7], [2, 13], [2, 3, 5], [2, 2, 5, 5], [2, 29], [37], [11], [3, 17], [2, 41], [2, 17], [5]]\n",
      "EKOK: 61884058915879200\n"
     ]
    }
   ],
   "source": [
    "import random\n",
    "from collections import Counter\n",
    "from functools import reduce\n",
    "from math import gcd\n",
    "\n",
    "def prime_factors(n):\n",
    "    i = 2\n",
    "    factors = []\n",
    "    while i * i <= n:\n",
    "        if n % i:\n",
    "            i += 1\n",
    "        else:\n",
    "            n //= i\n",
    "            factors.append(i)\n",
    "    if n > 1:\n",
    "        factors.append(n)\n",
    "    return factors\n",
    "\n",
    "# EKOK hesaplama fonksiyonu\n",
    "def lcm(a, b):\n",
    "    return a * b // gcd(a, b)\n",
    "\n",
    "# 2 ila 4 arasında rastgele bir sayıda eleman içeren bir liste oluşturma\n",
    "l = [random.randint(1, 100) for _ in range(random.randint(2, 50))]\n",
    "c = [prime_factors(i) for i in l]\n",
    "print(\"Numbers:\", l)\n",
    "print(\"Prime Factors:\", c)\n",
    "\n",
    "# En küçük ortak katı (EKOK) hesaplama\n",
    "all_factors = Counter()\n",
    "for factors in c:\n",
    "    factor_counts = Counter(factors)\n",
    "    for factor, count in factor_counts.items():\n",
    "        if factor in all_factors:\n",
    "            all_factors[factor] = max(all_factors[factor], count)\n",
    "        else:\n",
    "            all_factors[factor] = count\n",
    "\n",
    "ekok = 1\n",
    "for factor, count in all_factors.items():\n",
    "    ekok *= factor ** count\n",
    "\n",
    "print(\"EKOK:\", ekok)\n"
   ]
  },
  {
   "cell_type": "code",
   "execution_count": 62,
   "metadata": {},
   "outputs": [
    {
     "data": {
      "text/plain": [
       "1008.0"
      ]
     },
     "execution_count": 62,
     "metadata": {},
     "output_type": "execute_result"
    }
   ],
   "source": [
    "42*48/2\n"
   ]
  },
  {
   "cell_type": "code",
   "execution_count": 64,
   "metadata": {},
   "outputs": [
    {
     "data": {
      "text/plain": [
       "21.0"
      ]
     },
     "execution_count": 64,
     "metadata": {},
     "output_type": "execute_result"
    }
   ],
   "source": [
    "1008/48"
   ]
  },
  {
   "cell_type": "code",
   "execution_count": null,
   "metadata": {},
   "outputs": [],
   "source": []
  }
 ],
 "metadata": {
  "kernelspec": {
   "display_name": "Python 3",
   "language": "python",
   "name": "python3"
  },
  "language_info": {
   "codemirror_mode": {
    "name": "ipython",
    "version": 3
   },
   "file_extension": ".py",
   "mimetype": "text/x-python",
   "name": "python",
   "nbconvert_exporter": "python",
   "pygments_lexer": "ipython3",
   "version": "3.12.2"
  }
 },
 "nbformat": 4,
 "nbformat_minor": 2
}
